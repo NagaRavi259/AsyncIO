{
 "cells": [
  {
   "cell_type": "markdown",
   "id": "8678cd27-da78-4beb-8323-2c1ab4b880ef",
   "metadata": {
    "jp-MarkdownHeadingCollapsed": true,
    "tags": []
   },
   "source": [
    "## Need to research\n",
    "- What is Framework VS library\n",
    "    - Framework is combination of multiple libraries with pre-defined functions as it says pre-defined and you cant change these functions.\n",
    "    - library is also pre-defined functions more customization.\n",
    "- Garbage collector and threading\n",
    "- NON-blocking I/O\n",
    "- Samuel Rushing Medusa Framework\n",
    "    - Event driven Asynchronous\n",
    "    - its a commerce web development Framework \n",
    "- Async core\n",
    "- glyph twisted framework\n",
    "- christian tessmer Stackless python project\n",
    "    - To run micro thread\n",
    "- Micro Thread\n",
    "    - Green Threads\n",
    "- Greenlet library\n",
    "- gevent\n",
    "- Tornado\n",
    "- curio Python library\n",
    "- Trio Python library\n",
    "- Asynchronous IO support : PEP 3153\n",
    "- Asynchronous IO support rebooted The \"AsyncIO\" module : PEP 3156\n",
    "- coroutines with Async and await syntax\n",
    "- Async await\n",
    "- Execution context : PEP 550\n",
    "- context variables : PEP 567\n"
   ]
  },
  {
   "cell_type": "markdown",
   "id": "2957c316-8dcf-4f5c-9400-cd2f6da606f7",
   "metadata": {
    "tags": []
   },
   "source": [
    "# AsyncIO\n",
    "- AsyncIO is a python framework which enables single threded cocurent code using couroutines( Asynccronus stack )"
   ]
  },
  {
   "cell_type": "markdown",
   "id": "8419d8a5-5317-4ee2-9f2b-3a5d212aad51",
   "metadata": {
    "tags": []
   },
   "source": [
    "### Goal Of AsyncIO\n",
    "- Maximizing the usage of single thread by handling I/O ( Inputs/Outputs ) Asynchronusly, and by enabling the concurrent cod using coroutines"
   ]
  },
  {
   "cell_type": "markdown",
   "id": "fc686f79-b7d0-4240-86be-7068629f3bb1",
   "metadata": {},
   "source": [
    "## Topics that we covered in this course\n",
    "1. The AsyncIO EcoSystem\n",
    "    - this mainly focus on the topics\n",
    "        - what is AsyncIO\n",
    "        - Why do we need to use and where do we use\n",
    "        - What is the history of AsyncIO\n",
    "2. The event loop\n",
    "    - this is main building block of Async operations\n",
    "3. using coroutines\n",
    "    - Which Defines how to use AsyncIO high level\n",
    "4. Coroutines under the hood\n",
    "    - How the courutine works in back-end\n",
    "5. Batteries Included\n",
    "    - Features included with the AsyncIO \n",
    "6. An example web application\n",
    "    - At the end of course we will learn to buld a Application with a asyncIO and starlet, EdgeDB as database back-end\n",
    "7. interacting with the blocking\n",
    "    - error handling,\n",
    "    - Testing,\n",
    "    - Debugging."
   ]
  },
  {
   "cell_type": "markdown",
   "id": "93fa6508-f97d-41ed-b9c8-7f28fe2db253",
   "metadata": {
    "tags": []
   },
   "source": [
    "## 1. The AsyncIO EcoSystem"
   ]
  },
  {
   "cell_type": "markdown",
   "id": "fc1b855c-607a-4a16-8d79-8e8652f810f0",
   "metadata": {},
   "source": [
    "1. Latency\n",
    "2. Concurency and parellesim\n",
    "3. Threads in python\n",
    "4. Short History of Asyncio\n",
    "5. Other Contemporary frameworks"
   ]
  },
  {
   "cell_type": "markdown",
   "id": "40bf0cc6-fd93-41b8-aca6-0dfd0a9f2a83",
   "metadata": {
    "tags": []
   },
   "source": [
    "### Syncronus vs Asyncronus\n",
    "- Syncronus means running code will prevent other code from running it executes code line by line\n",
    "- Asyncronus Asyncronus Code will execute multiple lines at same time.  \n",
    "    - Sollution for Syncronus code\n",
    "        - to run multiple lines at same time it needs to run parelally with other lines \n",
    "            - TO achive this we can use threadding functionally in  python to get this result \n",
    "            - There may chance that multiple threads run at same time on same data the data might get currupt or damaged sometimes\n",
    "            - it may currupt data slowly While running \n",
    "- The goal of AsyncIO\n",
    "    - to maximize the ussage of a single thread\n",
    "    - By handling the IO Asyncronusly and By enabling Concurrent( Running parallelly ) code using coroutines( Coroutines are computer program components that generalize subroutines for non-preemptive multitasking, ).        "
   ]
  },
  {
   "cell_type": "code",
   "execution_count": 4,
   "id": "7f243e2f-37e1-4b1f-99c7-ab3bb0486e58",
   "metadata": {},
   "outputs": [],
   "source": [
    "## TEst Code to check threading Errors\n",
    "import threading\n",
    "import time\n",
    "\n",
    "\n",
    "class Mayhem(threading.Thread):\n",
    "    def __init__(self, map={}) -> None:\n",
    "        super().__init__()\n",
    "        self.map = map\n",
    "\n",
    "    def run(self):\n",
    "        for key, value in list(self.map.items()):\n",
    "            time.sleep(value)\n",
    "\n",
    "\n",
    "d = {\"k1\": 1, \"k2\": 2, \"k3\": 3}\n",
    "m = Mayhem(d)\n",
    "m.start()\n",
    "## Code is not working for me but he had working this\n",
    "# What this code actuallydo it runs the class in seperate thread after once we started the code it runs in the background\n",
    "#     after a whilewe try to add anoter key and value pair the 'd' dictnory when we tryto add it throws en error refering to\n",
    "#     dictionary changed size during iteration"
   ]
  },
  {
   "cell_type": "code",
   "execution_count": 7,
   "id": "902989c8-e588-4f6b-bda9-4c01e80d3ec8",
   "metadata": {},
   "outputs": [],
   "source": [
    "d[\"k4\"] = 4"
   ]
  },
  {
   "cell_type": "code",
   "execution_count": 8,
   "id": "995f1fd1-319f-48ff-b773-4d586537d8fa",
   "metadata": {},
   "outputs": [
    {
     "data": {
      "text/plain": [
       "{'k1': 1, 'k2': 2, 'k3': 3, 'k4': 4}"
      ]
     },
     "execution_count": 8,
     "metadata": {},
     "output_type": "execute_result"
    }
   ],
   "source": [
    "d"
   ]
  },
  {
   "cell_type": "markdown",
   "id": "62050fb0-3567-4884-81ca-439404fe56a4",
   "metadata": {},
   "source": [
    "- ### To fix above issue we can use \n",
    "    - Cell-Sign afford\n",
    "    - mutex\n",
    "    - object Queues\n",
    "    - The most basic one is a lock\n",
    "        - What lock actually do is it allows the acess to the recesource untill the task is done thenthe thread will release the lock so the other thread will access the resource \n",
    "        - if you(Thread) try to acquire a resource that other thread using you(Thread) has to wait until the lock released or the thread function completed \n",
    "- #### Locks are not good when we working on bigger data or Multiple resources\n",
    "    - If we are working with multiple theads and if the both threads need to acess same resources the second thread needs to wait until the first thread was completed with resources it makes it a Syncronus operation \n",
    "    - if we have more then 2 threads all threads need to wait untill remaining threads complete their operations(this is called Lock starvation)\n",
    "    - in the above we are under using the threads\n",
    "\n",
    "### - We can also use multi processes to achive parallelism \n",
    "- or we can dedicated processor manager\n",
    "    - System D\n",
    "    - Supervisor\n",
    "    - Circuits  etc...\n",
    "    "
   ]
  },
  {
   "cell_type": "markdown",
   "id": "cfea6743-4794-424d-bf60-b536d801e624",
   "metadata": {},
   "source": [
    "## 2. The event loop"
   ]
  },
  {
   "cell_type": "markdown",
   "id": "393ecb6d-97fc-4f1e-b334-968cb87910d9",
   "metadata": {},
   "source": [
    "## topics that we discussed\n",
    "- What is an event loop?\n",
    "- Using the AsyncIO event loop:ahigh-level view\n",
    "- Reactors and Proactors\n",
    "- Available event loop implementations in AsyncIO\n",
    "- Configuring an AsyncIO event loop\n",
    "- Apeek under the hood\n",
    "- uvloop:the ultimate loop implementation for UNIXes"
   ]
  },
  {
   "cell_type": "markdown",
   "id": "a1d3a87d-1559-439d-9f06-80fc16c8db7b",
   "metadata": {
    "tags": []
   },
   "source": [
    "### Better to use python terminal to run the Asyncio commands "
   ]
  },
  {
   "cell_type": "code",
   "execution_count": 1,
   "id": "6806e144-ac4e-4a3a-af9f-c685b1700000",
   "metadata": {},
   "outputs": [],
   "source": [
    "import asyncio"
   ]
  },
  {
   "cell_type": "code",
   "execution_count": 2,
   "id": "933d763a-301e-4035-a1de-e51639da5be7",
   "metadata": {},
   "outputs": [
    {
     "data": {
      "text/plain": [
       "<_WindowsSelectorEventLoop running=True closed=False debug=False>"
      ]
     },
     "execution_count": 2,
     "metadata": {},
     "output_type": "execute_result"
    }
   ],
   "source": [
    "asyncio.get_event_loop()\n",
    "# this will return the current running event loop if there is no loop it will create new event loop and starts that loop"
   ]
  },
  {
   "cell_type": "code",
   "execution_count": null,
   "id": "993ae7a8-6775-48e2-b16c-e50ae47fdcf9",
   "metadata": {},
   "outputs": [],
   "source": [
    "asyncio.get_running_loop()\n",
    "# this will run the loop in current OS thread"
   ]
  },
  {
   "cell_type": "code",
   "execution_count": 3,
   "id": "21533255-3f99-4edd-9c60-18aca70087fd",
   "metadata": {},
   "outputs": [],
   "source": [
    "loop = _"
   ]
  },
  {
   "cell_type": "code",
   "execution_count": 4,
   "id": "7154a2aa-3c98-4656-858a-9e7a671b33cc",
   "metadata": {},
   "outputs": [
    {
     "data": {
      "text/plain": [
       "asyncio.windows_events._WindowsSelectorEventLoop"
      ]
     },
     "execution_count": 4,
     "metadata": {},
     "output_type": "execute_result"
    }
   ],
   "source": [
    "type(loop)"
   ]
  },
  {
   "cell_type": "code",
   "execution_count": null,
   "id": "97b09b50-8cc4-4dbc-90d3-acbc42cc6cee",
   "metadata": {},
   "outputs": [],
   "source": [
    "loop.is_running()\n",
    "## Return True if event loopis running"
   ]
  },
  {
   "cell_type": "code",
   "execution_count": null,
   "id": "6cefb10c-c02f-4e41-92e6-e83569362616",
   "metadata": {},
   "outputs": [],
   "source": [
    "loop.stop()\n",
    "# stop the event loops if any running"
   ]
  },
  {
   "cell_type": "code",
   "execution_count": null,
   "id": "123350b9-abaa-4ab4-b19a-c17089fc7a49",
   "metadata": {},
   "outputs": [],
   "source": [
    "loop.is_closed()\n",
    "# Return True if the event loop was closed."
   ]
  },
  {
   "cell_type": "code",
   "execution_count": null,
   "id": "ad22379f-7489-4f5c-8c35-202c95fe3262",
   "metadata": {},
   "outputs": [],
   "source": [
    "loop.close()\n",
    "# Close the event loop."
   ]
  },
  {
   "cell_type": "code",
   "execution_count": null,
   "id": "ec664e16-1234-4af4-8328-302773738d92",
   "metadata": {},
   "outputs": [],
   "source": [
    "loop.run_forever()  # this will run the loop until ewe force stoped it\n",
    "# Run the event loop until stop() is called."
   ]
  },
  {
   "cell_type": "code",
   "execution_count": null,
   "id": "4846ef14-8862-437e-86e8-cea477559fea",
   "metadata": {},
   "outputs": [],
   "source": [
    "loop.run_until_complete(asyncio.sleep(5))\n",
    "# This will run the loop for a sleep of 5 seconds"
   ]
  },
  {
   "cell_type": "code",
   "execution_count": null,
   "id": "1cd8ff41-a6cd-4558-bbcf-0dca92d63f56",
   "metadata": {},
   "outputs": [],
   "source": [
    "import datetime\n",
    "\n",
    "\n",
    "def print_now():\n",
    "    print(datetime.datetime.now())\n",
    "\n",
    "\n",
    "loop.call_soon(print_now)  # Call_soon will start the code after runnignof the loop\n",
    "loop.call_soon(print_now)  # Call_soon will start the code after runnignof the loop\n",
    "loop.run_until_complete(\n",
    "    asyncio.sleep(5)\n",
    ")  # this will sleep after running the async function"
   ]
  },
  {
   "cell_type": "code",
   "execution_count": null,
   "id": "c2794ae1-0b3b-4fc3-8276-274539e667fe",
   "metadata": {},
   "outputs": [],
   "source": [
    "def trampoline(name: str = \"\") -> None:\n",
    "    print(name, end=\"\")\n",
    "    print_now()\n",
    "    loop.call_later(0.5, trampoline, name)\n",
    "\n",
    "\n",
    "loop.call_soon(trampoline)\n",
    "loop.call_later(8, loop.stop)\n",
    "loop.run_forever()"
   ]
  },
  {
   "cell_type": "markdown",
   "id": "435cc357-2d0e-45fa-bf9a-13674481e19e",
   "metadata": {},
   "source": [
    "### event looos run only one at a time\n",
    "- if we use multiple event loops it will stop one loop while executing another event loop\n",
    "- if the one loop is slow it will make all loops slower  it will run one after one"
   ]
  },
  {
   "cell_type": "code",
   "execution_count": null,
   "id": "2104f7c2-61df-4d05-a00b-af21e3ba0768",
   "metadata": {},
   "outputs": [],
   "source": [
    "def hog():\n",
    "    sum=0\n",
    "    for i in range(10_000):\n",
    "        for j in range(10_000):\n",
    "            sum+=j\n",
    "    return sum\n",
    "loop.call_later(15,hog)\n",
    "loop.call_later(20,loop.stop)\n",
    "loop.run_forever()"
   ]
  },
  {
   "cell_type": "code",
   "execution_count": null,
   "id": "f6fc1be8-fe10-420f-ba5e-609712c07adf",
   "metadata": {},
   "outputs": [],
   "source": []
  }
 ],
 "metadata": {
  "kernelspec": {
   "display_name": "Python 3 (ipykernel)",
   "language": "python",
   "name": "python3"
  },
  "language_info": {
   "codemirror_mode": {
    "name": "ipython",
    "version": 3
   },
   "file_extension": ".py",
   "mimetype": "text/x-python",
   "name": "python",
   "nbconvert_exporter": "python",
   "pygments_lexer": "ipython3",
   "version": "3.9.7"
  }
 },
 "nbformat": 4,
 "nbformat_minor": 5
}
